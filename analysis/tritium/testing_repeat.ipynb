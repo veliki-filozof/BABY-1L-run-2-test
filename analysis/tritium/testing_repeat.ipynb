{
 "cells": [
  {
   "cell_type": "code",
   "execution_count": 1,
   "metadata": {},
   "outputs": [],
   "source": [
    "from lsc_repeats import LSCRepeatSample\n",
    "from libra_toolbox.tritium.model import ureg, Model, quantity_to_activity\n",
    "import numpy as np\n",
    "import json\n",
    "from libra_toolbox.tritium.lsc_measurements import (\n",
    "    LIBRARun,\n",
    "    LSCFileReader,\n",
    "    GasStream,\n",
    "    LSCSample,\n",
    "    LIBRASample,\n",
    ")\n",
    "from datetime import datetime\n",
    "\n",
    "all_file_readers = []\n",
    "all_quench = []"
   ]
  },
  {
   "cell_type": "code",
   "execution_count": 20,
   "metadata": {},
   "outputs": [],
   "source": [
    "def create_repeat_sample(label: str, filename: str) -> LSCRepeatSample:\n",
    "    \"\"\"\n",
    "    Create a LSCRepeatSample from a LSC file with background substracted.\n",
    "\n",
    "    Args:\n",
    "        label: the label of the sample in the LSC file\n",
    "        filename: the filename of the LSC file\n",
    "\n",
    "    Returns:\n",
    "        the LSCRepeatSample object\n",
    "    \"\"\"\n",
    "    # check if a LSCFileReader has been created for this filename\n",
    "    found = False\n",
    "    for file_reader in all_file_readers:\n",
    "        if file_reader.filename == filename:\n",
    "            found = True\n",
    "            break\n",
    "\n",
    "    # if not, create it and add it to the list of LSCFileReaders\n",
    "    if not found:\n",
    "        file_reader = LSCFileReader(filename, labels_column=\"SMPL_ID\")\n",
    "\n",
    "    file_reader.read_file()\n",
    "\n",
    "    # create the sample\n",
    "    sample = LSCRepeatSample.from_file(file_reader, label)\n",
    "\n",
    "   # try to find the background sample from the file\n",
    "    background_labels = [\"1L-BL-1\", \"1L-BL-2\", \"1L-BL-3\"]\n",
    "    background_sample = None\n",
    "\n",
    "    for background_label in background_labels:\n",
    "        try:\n",
    "            background_sample = LSCRepeatSample.from_file(file_reader, background_label)\n",
    "            break\n",
    "        except ValueError:\n",
    "            continue\n",
    "\n",
    "    if background_sample is None:\n",
    "        raise ValueError(f\"Background sample not found in {filename}\")\n",
    "\n",
    "    # substract background\n",
    "    sample.substract_background(background_sample)\n",
    "\n",
    "    # read quench set\n",
    "    all_quench.append(file_reader.quench_set)\n",
    "\n",
    "    return sample\n",
    "\n",
    "\n",
    "lsc_data_folder = \"../../data/tritium_detection\"\n",
    "with open(\"../../data/general.json\", \"r\") as f:\n",
    "    general_data = json.load(f)\n",
    "\n",
    "run_nb = general_data[\"general_data\"][\"run_nb\"]\n",
    "\n",
    "\n",
    "# read start time from general.json\n",
    "all_start_times = []\n",
    "for generator in general_data[\"generators\"]:\n",
    "    if generator[\"enabled\"] is False:\n",
    "        continue\n",
    "    for irradiation_period in generator[\"periods\"]:\n",
    "        start_time = datetime.strptime(irradiation_period[\"start\"], \"%m/%d/%Y %H:%M\")\n",
    "        all_start_times.append(start_time)\n",
    "start_time = min(all_start_times)\n"
   ]
  },
  {
   "cell_type": "code",
   "execution_count": null,
   "metadata": {},
   "outputs": [],
   "source": [
    "stream = \"IV\"\n",
    "sample_nb = \"2\"\n",
    "vial_nb = \"4\"\n",
    "filename = \"REPEAT_IV-2-1_TO_2-10.csv\"\n",
    "\n",
    "sample = create_repeat_sample(\n",
    "    label=f\"1L-{stream}_{run_nb}-{sample_nb}-{vial_nb}\",\n",
    "    filename=f\"{lsc_data_folder}/{filename}\",\n",
    ")"
   ]
  },
  {
   "cell_type": "code",
   "execution_count": 23,
   "metadata": {},
   "outputs": [
    {
     "name": "stdout",
     "output_type": "stream",
     "text": [
      "1L-IV_2-2-3\n",
      "[5.234 5.224 5.207 5.177 5.352 5.228] becquerel\n",
      "4.853999999999999 becquerel\n",
      "0.06104096984812763 becquerel\n",
      "True\n",
      "6\n"
     ]
    }
   ],
   "source": [
    "print(sample.name)\n",
    "print(sample.counted_activities)\n",
    "print(sample.avg_activity)\n",
    "print(sample.stdev_activity)\n",
    "print(sample.background_substracted)\n",
    "print(sample.rep_number)"
   ]
  },
  {
   "cell_type": "code",
   "execution_count": null,
   "metadata": {},
   "outputs": [],
   "source": [
    "# create gas streams\n",
    "gas_streams = {}\n",
    "for stream, samples in general_data[\"tritium_detection\"].items():\n",
    "    stream_samples = []\n",
    "    for sample_nb, sample_dict in samples.items():\n",
    "        libra_samples = []\n",
    "        if sample_dict[\"actual_sample_time\"] is None:\n",
    "            continue\n",
    "        for vial_nb, filename in sample_dict[\"lsc_vials_filenames\"].items():\n",
    "            sample = create_sample(\n",
    "                label=f\"1L-{stream}_{run_nb}-{sample_nb}-{vial_nb}\",\n",
    "                filename=f\"{lsc_data_folder}/{filename}\",\n",
    "            )\n",
    "            libra_samples.append(sample)\n",
    "\n",
    "        time_sample = datetime.strptime(\n",
    "            sample_dict[\"actual_sample_time\"], \"%m/%d/%Y %H:%M\"\n",
    "        )\n",
    "        stream_samples.append(LIBRASample(libra_samples, time=time_sample))\n",
    "    gas_streams[stream] = GasStream(stream_samples, start_time=start_time)"
   ]
  }
 ],
 "metadata": {
  "kernelspec": {
   "display_name": "baby_1l_run_2",
   "language": "python",
   "name": "python3"
  },
  "language_info": {
   "codemirror_mode": {
    "name": "ipython",
    "version": 3
   },
   "file_extension": ".py",
   "mimetype": "text/x-python",
   "name": "python",
   "nbconvert_exporter": "python",
   "pygments_lexer": "ipython3",
   "version": "3.12.8"
  }
 },
 "nbformat": 4,
 "nbformat_minor": 2
}
