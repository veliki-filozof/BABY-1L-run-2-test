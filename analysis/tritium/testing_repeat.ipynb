{
 "cells": [
  {
   "cell_type": "code",
   "execution_count": 2,
   "metadata": {},
   "outputs": [],
   "source": [
    "from libra_toolbox.tritium.model import ureg, Model, quantity_to_activity\n",
    "import numpy as np\n",
    "import json\n",
    "from libra_toolbox.tritium.lsc_measurements import (\n",
    "    LIBRARun,\n",
    "    LSCFileReader,\n",
    "    GasStream,\n",
    "    LSCSample,\n",
    "    LIBRASample,\n",
    ")\n",
    "\n",
    "\n",
    "from datetime import datetime\n",
    "\n",
    "\n",
    "all_file_readers = []\n",
    "all_quench = []"
   ]
  },
  {
   "cell_type": "code",
   "execution_count": null,
   "metadata": {},
   "outputs": [],
   "source": []
  }
 ],
 "metadata": {
  "kernelspec": {
   "display_name": "baby_1l_run_2",
   "language": "python",
   "name": "python3"
  },
  "language_info": {
   "codemirror_mode": {
    "name": "ipython",
    "version": 3
   },
   "file_extension": ".py",
   "mimetype": "text/x-python",
   "name": "python",
   "nbconvert_exporter": "python",
   "pygments_lexer": "ipython3",
   "version": "3.12.8"
  }
 },
 "nbformat": 4,
 "nbformat_minor": 2
}
